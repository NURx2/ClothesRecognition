{
 "cells": [
  {
   "cell_type": "code",
   "execution_count": 16,
   "metadata": {
    "scrolled": false
   },
   "outputs": [
    {
     "name": "stdout",
     "output_type": "stream",
     "text": [
      "/Library/Frameworks/Python.framework/Versions/3.7/bin:/usr/local/bin:/usr/bin:/bin:/usr/sbin:/sbin:/Library/TeX/texbin:/usr/local/share/dotnet:~/.dotnet/tools\n",
      "python is /usr/bin/python\n",
      "python3 is /Library/Frameworks/Python.framework/Versions/3.7/bin/python3\n",
      "pip is /usr/local/bin/pip\n",
      "pip3 is /usr/local/bin/pip3\n"
     ]
    }
   ],
   "source": [
    "! echo $PATH\n",
    "! type python\n",
    "! type python3\n",
    "! type pip\n",
    "! type pip3"
   ]
  },
  {
   "cell_type": "markdown",
   "metadata": {},
   "source": [
    "<img src='task_description.jpg'>"
   ]
  },
  {
   "cell_type": "code",
   "execution_count": 188,
   "metadata": {
    "scrolled": true
   },
   "outputs": [
    {
     "name": "stdout",
     "output_type": "stream",
     "text": [
      "Collecting tqdm\n",
      "  Downloading tqdm-4.47.0-py2.py3-none-any.whl (66 kB)\n",
      "\u001b[K     |████████████████████████████████| 66 kB 492 kB/s eta 0:00:011     |███████████████████▋            | 40 kB 527 kB/s eta 0:00:01\n",
      "\u001b[?25hInstalling collected packages: tqdm\n",
      "Successfully installed tqdm-4.47.0\n"
     ]
    }
   ],
   "source": [
    "! python3 -m pip install tqdm"
   ]
  },
  {
   "cell_type": "code",
   "execution_count": 53,
   "metadata": {},
   "outputs": [],
   "source": [
    "import numpy as np\n",
    "import os\n",
    "import matplotlib.pyplot as plt\n",
    "import seaborn as sns\n",
    "import pandas as pd\n",
    "\n",
    "from numpy.random import seed\n",
    "seed(1337)\n",
    "from tensorflow.random import set_seed\n",
    "set_seed(42)\n",
    "\n",
    "from tensorflow.python.keras.applications import vgg16\n",
    "from tensorflow.python.keras.applications.vgg16 import preprocess_input\n",
    "from tensorflow.python.keras.preprocessing.image import ImageDataGenerator, load_img\n",
    "from tensorflow.python.keras.callbacks import ModelCheckpoint\n",
    "from tensorflow.python.keras import layers, models, Model, optimizers\n",
    "\n",
    "from sklearn.metrics import classification_report, confusion_matrix, accuracy_score\n",
    "from PIL import Image"
   ]
  },
  {
   "cell_type": "code",
   "execution_count": 54,
   "metadata": {},
   "outputs": [],
   "source": [
    "def get_img(df, idx):\n",
    "    row = df.iloc[idx]\n",
    "    filename = row.url.split('/')[-1]\n",
    "    print(filename)\n",
    "    path = os.path.join(str(row.id), row.color, row.source, filename)\n",
    "    print(path)\n",
    "    return Image.open(path)"
   ]
  },
  {
   "cell_type": "code",
   "execution_count": 56,
   "metadata": {},
   "outputs": [],
   "source": [
    "df = pd.read_csv('clothes-dataset.csv')"
   ]
  },
  {
   "cell_type": "code",
   "execution_count": 57,
   "metadata": {},
   "outputs": [
    {
     "data": {
      "text/html": [
       "<div>\n",
       "<style scoped>\n",
       "    .dataframe tbody tr th:only-of-type {\n",
       "        vertical-align: middle;\n",
       "    }\n",
       "\n",
       "    .dataframe tbody tr th {\n",
       "        vertical-align: top;\n",
       "    }\n",
       "\n",
       "    .dataframe thead th {\n",
       "        text-align: right;\n",
       "    }\n",
       "</style>\n",
       "<table border=\"1\" class=\"dataframe\">\n",
       "  <thead>\n",
       "    <tr style=\"text-align: right;\">\n",
       "      <th></th>\n",
       "      <th>id</th>\n",
       "      <th>category</th>\n",
       "      <th>color</th>\n",
       "      <th>source</th>\n",
       "      <th>url</th>\n",
       "    </tr>\n",
       "  </thead>\n",
       "  <tbody>\n",
       "    <tr>\n",
       "      <th>0</th>\n",
       "      <td>32712227764</td>\n",
       "      <td>Hoodies &amp; Sweatshirts</td>\n",
       "      <td>1</td>\n",
       "      <td>customer</td>\n",
       "      <td>https://ae01.alicdn.com/kf/UTB8wgKZASnEXKJk43U...</td>\n",
       "    </tr>\n",
       "    <tr>\n",
       "      <th>1</th>\n",
       "      <td>32712227764</td>\n",
       "      <td>Hoodies &amp; Sweatshirts</td>\n",
       "      <td>1</td>\n",
       "      <td>customer</td>\n",
       "      <td>https://ae01.alicdn.com/kf/UTB8xiXPgpPJXKJkSah...</td>\n",
       "    </tr>\n",
       "    <tr>\n",
       "      <th>2</th>\n",
       "      <td>32712227764</td>\n",
       "      <td>Hoodies &amp; Sweatshirts</td>\n",
       "      <td>1</td>\n",
       "      <td>customer</td>\n",
       "      <td>https://ae01.alicdn.com/kf/UTB8_rEgCVfFXKJk43O...</td>\n",
       "    </tr>\n",
       "    <tr>\n",
       "      <th>3</th>\n",
       "      <td>32712227764</td>\n",
       "      <td>Hoodies &amp; Sweatshirts</td>\n",
       "      <td>1</td>\n",
       "      <td>customer</td>\n",
       "      <td>https://ae01.alicdn.com/kf/UTB82d1_ggnJXKJkSae...</td>\n",
       "    </tr>\n",
       "    <tr>\n",
       "      <th>4</th>\n",
       "      <td>32712227764</td>\n",
       "      <td>Hoodies &amp; Sweatshirts</td>\n",
       "      <td>1</td>\n",
       "      <td>customer</td>\n",
       "      <td>https://ae01.alicdn.com/kf/UTB8xhnbgmbIXKJkSae...</td>\n",
       "    </tr>\n",
       "  </tbody>\n",
       "</table>\n",
       "</div>"
      ],
      "text/plain": [
       "            id               category color    source  \\\n",
       "0  32712227764  Hoodies & Sweatshirts     1  customer   \n",
       "1  32712227764  Hoodies & Sweatshirts     1  customer   \n",
       "2  32712227764  Hoodies & Sweatshirts     1  customer   \n",
       "3  32712227764  Hoodies & Sweatshirts     1  customer   \n",
       "4  32712227764  Hoodies & Sweatshirts     1  customer   \n",
       "\n",
       "                                                 url  \n",
       "0  https://ae01.alicdn.com/kf/UTB8wgKZASnEXKJk43U...  \n",
       "1  https://ae01.alicdn.com/kf/UTB8xiXPgpPJXKJkSah...  \n",
       "2  https://ae01.alicdn.com/kf/UTB8_rEgCVfFXKJk43O...  \n",
       "3  https://ae01.alicdn.com/kf/UTB82d1_ggnJXKJkSae...  \n",
       "4  https://ae01.alicdn.com/kf/UTB8xhnbgmbIXKJkSae...  "
      ]
     },
     "execution_count": 57,
     "metadata": {},
     "output_type": "execute_result"
    }
   ],
   "source": [
    "df.head()"
   ]
  },
  {
   "cell_type": "code",
   "execution_count": 113,
   "metadata": {},
   "outputs": [
    {
     "data": {
      "text/plain": [
       "category\n",
       "T-Shirts                 197323.0\n",
       "Hoodies & Sweatshirts     72192.0\n",
       "Ankle Boots               19499.0\n",
       "Skirts                    15867.0\n",
       "Pants & Capris            12840.0\n",
       "Blouses & Shirts          12565.0\n",
       "Dresses                    6394.0\n",
       "Jeans                      6127.0\n",
       "Tank Tops                  4188.0\n",
       "Leggings                   3740.0\n",
       "Casual Shirts              3424.0\n",
       "Polo                       2809.0\n",
       "Shorts                     2211.0\n",
       "Pullovers                  2106.0\n",
       "Sweatpants                 1920.0\n",
       "Jumpsuits                  1549.0\n",
       "Casual Pants               1291.0\n",
       "Name: url, dtype: float64"
      ]
     },
     "execution_count": 113,
     "metadata": {},
     "output_type": "execute_result"
    }
   ],
   "source": [
    "df.groupby('category')['url'].nunique().where(lambda x: x > 1148).dropna().sort_values(ascending=False)"
   ]
  },
  {
   "cell_type": "code",
   "execution_count": 115,
   "metadata": {
    "scrolled": true
   },
   "outputs": [
    {
     "name": "stdout",
     "output_type": "stream",
     "text": [
      "['T-Shirts' 'Hoodies & Sweatshirts' 'Ankle Boots' 'Skirts'\n",
      " 'Pants & Capris' 'Blouses & Shirts' 'Dresses' 'Jeans' 'Tank Tops'\n",
      " 'Leggings' 'Casual Shirts' 'Polo' 'Shorts' 'Pullovers' 'Sweatpants'\n",
      " 'Jumpsuits' 'Casual Pants']\n"
     ]
    }
   ],
   "source": [
    "relevant_categories = np.array(df.groupby('category')['url'].nunique().where(lambda x: x > 1148).dropna().sort_values(ascending=False).index)\n",
    "print(relevant_categories)"
   ]
  },
  {
   "cell_type": "code",
   "execution_count": 116,
   "metadata": {},
   "outputs": [],
   "source": [
    "df2 = df[df['category'].isin(relevant_categories)]\n",
    "# оставим только категории, где больше 1148 фото (начиная от блока два шага назад)"
   ]
  },
  {
   "cell_type": "code",
   "execution_count": 117,
   "metadata": {
    "scrolled": true
   },
   "outputs": [
    {
     "data": {
      "text/plain": [
       "(366749, 5)"
      ]
     },
     "execution_count": 117,
     "metadata": {},
     "output_type": "execute_result"
    }
   ],
   "source": [
    "df2.shape"
   ]
  },
  {
   "cell_type": "code",
   "execution_count": 165,
   "metadata": {},
   "outputs": [
    {
     "name": "stdout",
     "output_type": "stream",
     "text": [
      "T-Shirts 14335\n",
      "Hoodies & Sweatshirts 5529\n",
      "Ankle Boots 1417\n",
      "Skirts 1138\n",
      "Pants & Capris 847\n",
      "Blouses & Shirts 1157\n",
      "Dresses 6410\n",
      "Jeans 6128\n",
      "Tank Tops 4196\n",
      "Leggings 3764\n",
      "Casual Shirts 3438\n",
      "Polo 2814\n",
      "Shorts 2213\n",
      "Pullovers 2109\n",
      "Sweatpants 1927\n",
      "Jumpsuits 1549\n",
      "Casual Pants 1292\n"
     ]
    }
   ],
   "source": [
    "df_category = [pd.DataFrame() for i in range(len(relevant_categories))]\n",
    "for i, category in enumerate(relevant_categories):\n",
    "    df_category[i] = df2[df2['category'] == category]\n",
    "    if len(df2[df2['category'] == category]) > 10000:\n",
    "        df_category[i] = pd.DataFrame(df_category[i].groupby('id')['url'].first().reset_index(drop=True))\n",
    "        df_category[i]['category'] = category\n",
    "    else:\n",
    "        df_category[i] = df_category[i].drop(columns=['id', 'source', 'color']).reset_index(drop=True)\n",
    "    print(category + ' ' + str(len(df_category[i])))\n",
    "    "
   ]
  },
  {
   "cell_type": "code",
   "execution_count": 169,
   "metadata": {
    "scrolled": true
   },
   "outputs": [
    {
     "name": "stdout",
     "output_type": "stream",
     "text": [
      "                                                     url      category\n",
      "0      https://ae01.alicdn.com/kf/HTB1CP3qKpXXXXaXXXX...      T-Shirts\n",
      "1      https://ae01.alicdn.com/kf/HTB18If9HVXXXXagXXX...      T-Shirts\n",
      "2      https://ae01.alicdn.com/kf/HTB13U3ZMXXXXXXwXXX...      T-Shirts\n",
      "3      https://ae01.alicdn.com/kf/HTB1p3MGu1uSBuNjSsz...      T-Shirts\n",
      "4      https://ae01.alicdn.com/kf/HTB1rooRwf5TBuNjSsp...      T-Shirts\n",
      "...                                                  ...           ...\n",
      "60258  https://ae01.alicdn.com/kf/UTB8K7BnCpfFXKJk43O...  Casual Pants\n",
      "60259  https://ae01.alicdn.com/kf/UTB8jDrslf2JXKJkSan...  Casual Pants\n",
      "60260  https://ae01.alicdn.com/kf/UTB830TxlXfJXKJkSam...  Casual Pants\n",
      "60261  https://ae01.alicdn.com/kf/UTB8otPxlXfJXKJkSam...  Casual Pants\n",
      "60262  https://ae01.alicdn.com/kf/UTB8LzbeEiaMiuJk43P...  Casual Pants\n",
      "\n",
      "[60263 rows x 2 columns]\n"
     ]
    }
   ],
   "source": [
    "df3 = pd.concat(df_category, sort=False)\n",
    "df3.reset_index(inplace=True, drop=True)\n",
    "print(df3)"
   ]
  },
  {
   "cell_type": "code",
   "execution_count": 171,
   "metadata": {},
   "outputs": [],
   "source": [
    "import requests"
   ]
  },
  {
   "cell_type": "code",
   "execution_count": 189,
   "metadata": {},
   "outputs": [],
   "source": [
    "from tqdm import tqdm_notebook"
   ]
  },
  {
   "cell_type": "code",
   "execution_count": 193,
   "metadata": {
    "scrolled": false
   },
   "outputs": [
    {
     "name": "stderr",
     "output_type": "stream",
     "text": [
      "/Library/Frameworks/Python.framework/Versions/3.7/lib/python3.7/site-packages/ipykernel_launcher.py:3: TqdmDeprecationWarning: This function will be removed in tqdm==5.0.0\n",
      "Please use `tqdm.notebook.tqdm` instead of `tqdm.tqdm_notebook`\n",
      "  This is separate from the ipykernel package so we can avoid doing imports until\n"
     ]
    },
    {
     "data": {
      "application/vnd.jupyter.widget-view+json": {
       "model_id": "fcbaeb58fbbb4f2e99fd5884864d987c",
       "version_major": 2,
       "version_minor": 0
      },
      "text/plain": [
       "HBox(children=(FloatProgress(value=0.0, max=60263.0), HTML(value='')))"
      ]
     },
     "metadata": {},
     "output_type": "display_data"
    },
    {
     "name": "stdout",
     "output_type": "stream",
     "text": [
      "Не могу скачать url         https://ae01.alicdn.com/kf/HTB1tQFUHb1YBuNjSsz...\n",
      "category                                Hoodies & Sweatshirts\n",
      "Name: 18071, dtype: object\n",
      "Не могу скачать url         https://ae01.alicdn.com/kf/HTB1yxgNh3ZC2uNjSZF...\n",
      "category                                Hoodies & Sweatshirts\n",
      "Name: 18233, dtype: object\n",
      "Не могу скачать url         https://ae01.alicdn.com/kf/HTB1ihL4JY1YBuNjSsz...\n",
      "category                                Hoodies & Sweatshirts\n",
      "Name: 18234, dtype: object\n",
      "Не могу скачать url         https://ae01.alicdn.com/kf/HTB1S_DjmBjTBKNjSZF...\n",
      "category                                Hoodies & Sweatshirts\n",
      "Name: 18235, dtype: object\n",
      "Не могу скачать url         https://ae01.alicdn.com/kf/HTB1XSUsXffsK1RjSsz...\n",
      "category                                Hoodies & Sweatshirts\n",
      "Name: 19513, dtype: object\n",
      "Не могу скачать url         https://ae01.alicdn.com/kf/HTB1pz8GXyLxK1Rjy0F...\n",
      "category                                Hoodies & Sweatshirts\n",
      "Name: 19514, dtype: object\n",
      "Не могу скачать url         https://ae01.alicdn.com/kf/HTB1xGlDh4TpK1RjSZF...\n",
      "category                                Hoodies & Sweatshirts\n",
      "Name: 19515, dtype: object\n",
      "Не могу скачать url         https://ae01.alicdn.com/kf/HTB10ZfVbDJ_SKJjSZP...\n",
      "category                                          Ankle Boots\n",
      "Name: 20066, dtype: object\n",
      "Не могу скачать url         https://ae01.alicdn.com/kf/HTB1r1KnOFXXXXa6XpX...\n",
      "category                                          Ankle Boots\n",
      "Name: 20067, dtype: object\n",
      "Не могу скачать url         https://ae01.alicdn.com/kf/HTB1po2gzruWBuNjSsz...\n",
      "category                                          Ankle Boots\n",
      "Name: 20068, dtype: object\n",
      "Не могу скачать url         https://ae01.alicdn.com/kf/HTB1VdviOFXXXXbwXVX...\n",
      "category                                          Ankle Boots\n",
      "Name: 20069, dtype: object\n",
      "Не могу скачать url         https://ae01.alicdn.com/kf/HTB1qoavpFOWBuNjy0F...\n",
      "category                                          Ankle Boots\n",
      "Name: 20070, dtype: object\n",
      "Не могу скачать url         https://ae01.alicdn.com/kf/HTB1PwsomGQoBKNjSZJ...\n",
      "category                                          Ankle Boots\n",
      "Name: 20231, dtype: object\n",
      "Не могу скачать url         https://ae01.alicdn.com/kf/HTB1KqweJVXXXXcdXXX...\n",
      "category                                       Pants & Capris\n",
      "Name: 22452, dtype: object\n",
      "Не могу скачать url         https://ae01.alicdn.com/kf/HTB1Lr8pKXXXXXc1XpX...\n",
      "category                                       Pants & Capris\n",
      "Name: 22453, dtype: object\n",
      "Не могу скачать url         https://ae01.alicdn.com/kf/HTB14F9EKXXXXXbTXpX...\n",
      "category                                       Pants & Capris\n",
      "Name: 22454, dtype: object\n",
      "Не могу скачать url         https://ae01.alicdn.com/kf/HTB11IbuKXXXXXaUXFX...\n",
      "category                                       Pants & Capris\n",
      "Name: 22455, dtype: object\n",
      "Не могу скачать url         https://ae01.alicdn.com/kf/HTB1nh5dKpXXXXbZXVX...\n",
      "category                                       Pants & Capris\n",
      "Name: 22456, dtype: object\n",
      "Не могу скачать url         https://ae01.alicdn.com/kf/HTB19RNySpXXXXc7aXX...\n",
      "category                                       Pants & Capris\n",
      "Name: 22457, dtype: object\n",
      "Не могу скачать url         https://ae01.alicdn.com/kf/HTB1dmLjSpXXXXXmaFX...\n",
      "category                                     Blouses & Shirts\n",
      "Name: 23627, dtype: object\n",
      "Не могу скачать url         https://ae01.alicdn.com/kf/HTB19.sTSXXXXXc5XFX...\n",
      "category                                     Blouses & Shirts\n",
      "Name: 23628, dtype: object\n",
      "Не могу скачать url         https://ae01.alicdn.com/kf/HTB1vfi1SVXXXXcGXXX...\n",
      "category                                     Blouses & Shirts\n",
      "Name: 23629, dtype: object\n",
      "Не могу скачать url         https://ae01.alicdn.com/kf/HTB1_IoNSpXXXXXLaFX...\n",
      "category                                     Blouses & Shirts\n",
      "Name: 23630, dtype: object\n",
      "Не могу скачать url         https://ae01.alicdn.com/kf/HTB1ueZRsOOYBuNjSsD...\n",
      "category                                     Blouses & Shirts\n",
      "Name: 23631, dtype: object\n",
      "Не могу скачать url         https://ae01.alicdn.com/kf/HTB1erk4ac2vU1JjSZF...\n",
      "category                                     Blouses & Shirts\n",
      "Name: 23632, dtype: object\n",
      "Не могу скачать url         https://ae01.alicdn.com/kf/HTB18JkFSFXXXXXxXVX...\n",
      "category                                     Blouses & Shirts\n",
      "Name: 23633, dtype: object\n",
      "Не могу скачать url         https://ae01.alicdn.com/kf/HTB1YfxpbQvoK1RjSZP...\n",
      "category                                     Blouses & Shirts\n",
      "Name: 23635, dtype: object\n",
      "Не могу скачать url         https://ae01.alicdn.com/kf/HTB1m1tpSVXXXXayXpX...\n",
      "category                                     Blouses & Shirts\n",
      "Name: 23636, dtype: object\n",
      "Не могу скачать url         https://ae01.alicdn.com/kf/HTB1uyU1msUrBKNjSZP...\n",
      "category                                     Blouses & Shirts\n",
      "Name: 23637, dtype: object\n",
      "Не могу скачать url         https://ae01.alicdn.com/kf/HTB1.tBwkGagSKJjy0F...\n",
      "category                                     Blouses & Shirts\n",
      "Name: 23638, dtype: object\n",
      "Не могу скачать url         https://ae01.alicdn.com/kf/UTB8XSRbgbPJXKJkSaf...\n",
      "category                                              Dresses\n",
      "Name: 24886, dtype: object\n",
      "Не могу скачать url         https://ae01.alicdn.com/kf/HTB1al0iQVXXXXawXXX...\n",
      "category                                              Dresses\n",
      "Name: 24887, dtype: object\n",
      "Не могу скачать url         https://ae01.alicdn.com/kf/UTB8KVN_DODEXKJk43O...\n",
      "category                                              Dresses\n",
      "Name: 24888, dtype: object\n",
      "Не могу скачать url         https://ae01.alicdn.com/kf/UTB8T1vijv2JXKJkSan...\n",
      "category                                              Dresses\n",
      "Name: 24890, dtype: object\n",
      "Не могу скачать url         https://ae01.alicdn.com/kf/UTB8EjKgDNHEXKJk43J...\n",
      "category                                              Dresses\n",
      "Name: 24892, dtype: object\n",
      "Не могу скачать url         https://ae01.alicdn.com/kf/UTB8FZ1DCBahduJk43J...\n",
      "category                                              Dresses\n",
      "Name: 24893, dtype: object\n",
      "Не могу скачать url         https://ae01.alicdn.com/kf/UTB8GyzoBmnEXKJk43U...\n",
      "category                                              Dresses\n",
      "Name: 24895, dtype: object\n",
      "Не могу скачать url         https://ae01.alicdn.com/kf/UTB8ff5ZgFPJXKJkSah...\n",
      "category                                              Dresses\n",
      "Name: 24896, dtype: object\n",
      "Не могу скачать url         https://ae01.alicdn.com/kf/UTB8AFMxgwnJXKJkSae...\n",
      "category                                              Dresses\n",
      "Name: 24897, dtype: object\n",
      "Не могу скачать url         https://ae01.alicdn.com/kf/UTB8N7EngMnJXKJkSae...\n",
      "category                                              Dresses\n",
      "Name: 24899, dtype: object\n",
      "Не могу скачать url         https://ae01.alicdn.com/kf/UTB862tvBhHEXKJk43J...\n",
      "category                                              Dresses\n",
      "Name: 24900, dtype: object\n",
      "Не могу скачать url         https://ae01.alicdn.com/kf/HTB1pW9NPFXXXXaNXpX...\n",
      "category                                              Dresses\n",
      "Name: 24903, dtype: object\n",
      "Не могу скачать url         https://ae01.alicdn.com/kf/UTB8NfiujSbIXKJkSae...\n",
      "category                                              Dresses\n",
      "Name: 24905, dtype: object\n",
      "Не могу скачать url         https://ae01.alicdn.com/kf/HTB1A.g2avQypeRjt_b...\n",
      "category                                              Dresses\n",
      "Name: 24906, dtype: object\n",
      "Не могу скачать url         https://ae01.alicdn.com/kf/HTB1m6BEKpOWBuNjy0F...\n",
      "category                                              Dresses\n",
      "Name: 24907, dtype: object\n",
      "Не могу скачать url         https://ae01.alicdn.com/kf/UTB8oNJkFiDEXKJk43O...\n",
      "category                                              Dresses\n",
      "Name: 24908, dtype: object\n",
      "Не могу скачать url         https://ae01.alicdn.com/kf/HTB1zkHjmx6I8KJjSsz...\n",
      "category                                              Dresses\n",
      "Name: 24909, dtype: object\n",
      "Не могу скачать url         https://ae01.alicdn.com/kf/HTB1zU32msLJ8KJjy0F...\n",
      "category                                              Dresses\n",
      "Name: 24910, dtype: object\n",
      "Не могу скачать url         https://ae01.alicdn.com/kf/HTB1PF6PmwLD8KJjSsz...\n",
      "category                                              Dresses\n",
      "Name: 24911, dtype: object\n",
      "Не могу скачать url         https://ae01.alicdn.com/kf/HTB1Pn1TepHM8KJjSZJ...\n",
      "category                                              Dresses\n",
      "Name: 24912, dtype: object\n"
     ]
    },
    {
     "name": "stdout",
     "output_type": "stream",
     "text": [
      "Не могу скачать url         https://ae01.alicdn.com/kf/HTB15zrCmC_I8KJjy0F...\n",
      "category                                              Dresses\n",
      "Name: 24913, dtype: object\n",
      "Не могу скачать url         https://ae01.alicdn.com/kf/HTB1.xojmvDH8KJjy1X...\n",
      "category                                              Dresses\n",
      "Name: 24915, dtype: object\n",
      "Не могу скачать url         https://ae01.alicdn.com/kf/UTB8Ntt7FarFXKJk43O...\n",
      "category                                              Dresses\n",
      "Name: 25075, dtype: object\n",
      "Не могу скачать url         https://ae01.alicdn.com/kf/HTB1QXpFbK7EWeJjSZF...\n",
      "category                                              Dresses\n",
      "Name: 25078, dtype: object\n",
      "Не могу скачать url         https://ae01.alicdn.com/kf/UTB8TTixFVfFXKJk43O...\n",
      "category                                                Jeans\n",
      "Name: 34146, dtype: object\n",
      "Не могу скачать url         https://ae01.alicdn.com/kf/HTB19lkslN3IL1JjSZP...\n",
      "category                                                Jeans\n",
      "Name: 36268, dtype: object\n",
      "Не могу скачать url         https://ae01.alicdn.com/kf/HTB1rSoWcxuaVKJjSZF...\n",
      "category                                                Jeans\n",
      "Name: 36269, dtype: object\n",
      "Не могу скачать url         https://ae01.alicdn.com/kf/UTB8HNqsiYnJXKJkSah...\n",
      "category                                                Jeans\n",
      "Name: 36271, dtype: object\n",
      "Не могу скачать url         https://ae01.alicdn.com/kf/UTB8RYaAi__IXKJkSal...\n",
      "category                                                Jeans\n",
      "Name: 36272, dtype: object\n",
      "Не могу скачать url         https://ae01.alicdn.com/kf/HTB16KuNlYsrBKNjSZF...\n",
      "category                                                Jeans\n",
      "Name: 36273, dtype: object\n",
      "Не могу скачать url         https://ae01.alicdn.com/kf/UTB8ig_NlXfJXKJkSam...\n",
      "category                                                Jeans\n",
      "Name: 36274, dtype: object\n",
      "Не могу скачать url         https://ae01.alicdn.com/kf/UTB8jEztEiaMiuJk43P...\n",
      "category                                                Jeans\n",
      "Name: 36275, dtype: object\n",
      "Не могу скачать url         https://ae01.alicdn.com/kf/HTB15q_Rmr_I8KJjy1X...\n",
      "category                                                Jeans\n",
      "Name: 36276, dtype: object\n",
      "Не могу скачать url         https://ae01.alicdn.com/kf/HTB1UoaPmtrJ8KJjSsp...\n",
      "category                                                Jeans\n",
      "Name: 36277, dtype: object\n",
      "Не могу скачать url         https://ae01.alicdn.com/kf/HTB1G56OetHO8KJjSZF...\n",
      "category                                                Jeans\n",
      "Name: 36278, dtype: object\n",
      "Не могу скачать url         https://ae01.alicdn.com/kf/HTB1s8Pnmv6H8KJjy0F...\n",
      "category                                                Jeans\n",
      "Name: 36280, dtype: object\n",
      "Не могу скачать url         https://ae01.alicdn.com/kf/UTB8_F9biD_IXKJkSal...\n",
      "category                                                Jeans\n",
      "Name: 36578, dtype: object\n",
      "Не могу скачать url         https://ae01.alicdn.com/kf/HTB1B2fuamCWBuNjy0F...\n",
      "category                                            Tank Tops\n",
      "Name: 38767, dtype: object\n",
      "\n"
     ]
    }
   ],
   "source": [
    "# for category in relevant_categories:\n",
    "#     os.makedirs(f'photos/{category}', exist_ok=True)\n",
    "# for i, row in tqdm_notebook(df3.iterrows(), total=df3.shape[0]):\n",
    "#     path = f'photos/{row.category}/{i}.jpg'\n",
    "#     if os.path.exists(path):\n",
    "#         continue\n",
    "#     try:\n",
    "#         res = requests.get(row.url)\n",
    "#     except:\n",
    "#         print(f'Не могу скачать {row}')\n",
    "#         continue\n",
    "#     with open(path, 'wb') as f:\n",
    "#         f.write(res.content)"
   ]
  },
  {
   "cell_type": "code",
   "execution_count": 183,
   "metadata": {},
   "outputs": [],
   "source": [
    "import io\n",
    "x = Image.open(io.BytesIO(res.content))\n",
    "x.show()"
   ]
  },
  {
   "cell_type": "code",
   "execution_count": 194,
   "metadata": {},
   "outputs": [],
   "source": [
    "import shutil\n",
    "import random"
   ]
  },
  {
   "cell_type": "code",
   "execution_count": 202,
   "metadata": {
    "scrolled": true
   },
   "outputs": [
    {
     "name": "stdout",
     "output_type": "stream",
     "text": [
      "Number of total images:  14336\n",
      "Training:  11468\n",
      "Validation:  1434\n",
      "Testing:  1434\n",
      "Number of total images:  5522\n",
      "Training:  4417\n",
      "Validation:  552\n",
      "Testing:  553\n",
      "Number of total images:  1411\n",
      "Training:  1128\n",
      "Validation:  141\n",
      "Testing:  142\n",
      "Number of total images:  1138\n",
      "Training:  910\n",
      "Validation:  114\n",
      "Testing:  114\n",
      "Number of total images:  841\n",
      "Training:  672\n",
      "Validation:  84\n",
      "Testing:  85\n",
      "Number of total images:  1140\n",
      "Training:  912\n",
      "Validation:  114\n",
      "Testing:  114\n",
      "Number of total images:  5733\n",
      "Training:  4586\n",
      "Validation:  573\n",
      "Testing:  574\n",
      "Number of total images:  6115\n",
      "Training:  4892\n",
      "Validation:  611\n",
      "Testing:  612\n",
      "Number of total images:  4195\n",
      "Training:  3356\n",
      "Validation:  419\n",
      "Testing:  420\n",
      "Number of total images:  3764\n",
      "Training:  3011\n",
      "Validation:  376\n",
      "Testing:  377\n",
      "Number of total images:  2314\n",
      "Training:  1851\n",
      "Validation:  231\n",
      "Testing:  232\n",
      "Number of total images:  2814\n",
      "Training:  2251\n",
      "Validation:  281\n",
      "Testing:  282\n",
      "Number of total images:  2213\n",
      "Training:  1770\n",
      "Validation:  221\n",
      "Testing:  222\n",
      "Number of total images:  2109\n",
      "Training:  1687\n",
      "Validation:  211\n",
      "Testing:  211\n",
      "Number of total images:  1927\n",
      "Training:  1541\n",
      "Validation:  193\n",
      "Testing:  193\n",
      "Number of total images:  1549\n",
      "Training:  1239\n",
      "Validation:  155\n",
      "Testing:  155\n",
      "Number of total images:  955\n",
      "Training:  764\n",
      "Validation:  95\n",
      "Testing:  96\n"
     ]
    }
   ],
   "source": [
    "root_dir = 'data'\n",
    "\n",
    "val_ratio = 0.1\n",
    "test_ratio = 0.1\n",
    "\n",
    "for category in relevant_categories:\n",
    "#     os.makedirs(root_dir +'/train/' + category)\n",
    "#     os.makedirs(root_dir +'/val/' + category)\n",
    "#     os.makedirs(root_dir +'/test/' + category)\n",
    "    \n",
    "    copy_from_dir = 'photos/' + category\n",
    "    \n",
    "    all_filenames = os.listdir(copy_from_dir)\n",
    "    np.random.shuffle(all_filenames)\n",
    "    train_filenames, val_filenames, test_filenames = np.split(\n",
    "        np.array(all_filenames),\n",
    "        [int(len(all_filenames)* (1 - val_ratio - test_ratio)), int(len(all_filenames)* (1 - test_ratio))]\n",
    "    )\n",
    "    train_filenames = [copy_from_dir + '/' + name for name in train_filenames.tolist()]\n",
    "    val_filenames = [copy_from_dir + '/' + name for name in val_filenames.tolist()]\n",
    "    test_filenames = [copy_from_dir + '/' + name for name in test_filenames.tolist()]\n",
    "    \n",
    "    print('Number of total images: ', len(all_filenames))\n",
    "    print('Training: ', len(train_filenames))\n",
    "    print('Validation: ', len(val_filenames))\n",
    "    print('Testing: ', len(test_filenames))\n",
    "    \n",
    "    for name in train_filenames:\n",
    "        shutil.copy(name, root_dir + '/train/' + category)\n",
    "\n",
    "    for name in val_filenames:\n",
    "        shutil.copy(name, root_dir +'/val/' + category)\n",
    "\n",
    "    for name in test_filenames:\n",
    "        shutil.copy(name, root_dir +'/test/' + category)"
   ]
  },
  {
   "cell_type": "code",
   "execution_count": 205,
   "metadata": {},
   "outputs": [
    {
     "name": "stdout",
     "output_type": "stream",
     "text": [
      ".DS_Store\n",
      ".DS_Store\n",
      ".DS_Store\n",
      ".DS_Store\n",
      ".DS_Store\n"
     ]
    }
   ],
   "source": [
    "for category in relevant_categories:\n",
    "    all_filenames = os.listdir('photos/' + category)\n",
    "    for s in all_filenames:\n",
    "        if s[-4:] != '.jpg':\n",
    "            print(s)"
   ]
  },
  {
   "cell_type": "code",
   "execution_count": 209,
   "metadata": {},
   "outputs": [],
   "source": [
    "for category in relevant_categories:\n",
    "    all_filenames = os.listdir('photos/' + category)\n",
    "    for s in all_filenames:\n",
    "        if s[-4:] != '.jpg':\n",
    "            print(s)\n",
    "#             print('photos/' + category + '/' + s)\n",
    "#             os.remove('photos/' + category + '/' + s)"
   ]
  }
 ],
 "metadata": {
  "kernelspec": {
   "display_name": "Python 3",
   "language": "python",
   "name": "python3"
  },
  "language_info": {
   "codemirror_mode": {
    "name": "ipython",
    "version": 3
   },
   "file_extension": ".py",
   "mimetype": "text/x-python",
   "name": "python",
   "nbconvert_exporter": "python",
   "pygments_lexer": "ipython3",
   "version": "3.7.4"
  }
 },
 "nbformat": 4,
 "nbformat_minor": 2
}
